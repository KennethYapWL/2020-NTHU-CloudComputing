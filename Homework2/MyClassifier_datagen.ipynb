{
 "cells": [
  {
   "cell_type": "code",
   "execution_count": 1,
   "metadata": {},
   "outputs": [],
   "source": [
    "import os\n",
    "\n",
    "import tensorflow as tf\n",
    "import tensorflow.keras as keras\n",
    "from tensorflow.keras import layers\n",
    "from tensorflow.keras import models\n",
    "from tensorflow.keras import optimizers\n",
    "from tensorflow.keras.preprocessing.image import ImageDataGenerator\n",
    "from tensorflow.keras.optimizers import RMSprop\n",
    "from tensorflow.keras.callbacks import ReduceLROnPlateau\n",
    "\n",
    "import matplotlib.pyplot as plt"
   ]
  },
  {
   "cell_type": "code",
   "execution_count": 2,
   "metadata": {},
   "outputs": [
    {
     "data": {
      "text/plain": [
       "'2.0.0'"
      ]
     },
     "execution_count": 2,
     "metadata": {},
     "output_type": "execute_result"
    }
   ],
   "source": [
    "tf.__version__"
   ]
  },
  {
   "cell_type": "code",
   "execution_count": 3,
   "metadata": {},
   "outputs": [
    {
     "name": "stdout",
     "output_type": "stream",
     "text": [
      "1 Physical GPUs, 1 Logical GPUs\n"
     ]
    }
   ],
   "source": [
    "gpus = tf.config.experimental.list_physical_devices('GPU')\n",
    "if gpus:\n",
    "    try:\n",
    "        # Restrict TensorFlow to only use the fourth GPU\n",
    "        tf.config.experimental.set_visible_devices(gpus[0], 'GPU')\n",
    "\n",
    "        # Currently, memory growth needs to be the same across GPUs\n",
    "        for gpu in gpus:\n",
    "            tf.config.experimental.set_memory_growth(gpu, True)\n",
    "        logical_gpus = tf.config.experimental.list_logical_devices('GPU')\n",
    "        print(len(gpus), \"Physical GPUs,\", len(logical_gpus), \"Logical GPUs\")\n",
    "    except RuntimeError as e:\n",
    "        # Memory growth must be set before GPUs have been initialized\n",
    "        print(e)"
   ]
  },
  {
   "cell_type": "code",
   "execution_count": 4,
   "metadata": {},
   "outputs": [],
   "source": [
    "base_dir = 'cats_and_dogs_small'\n",
    "\n",
    "train_dir = os.path.join(base_dir, 'train')\n",
    "validation_dir = os.path.join(base_dir, 'validation')\n",
    "test_dir = os.path.join(base_dir, 'test')\n",
    "\n",
    "train_cats_dir = os.path.join(train_dir, 'cats')\n",
    "train_dogs_dir = os.path.join(train_dir, 'dogs')\n",
    "\n",
    "validation_cats_dir = os.path.join(validation_dir, 'cats')\n",
    "validation_dogs_dir = os.path.join(validation_dir, 'dogs')\n",
    "\n",
    "test_cats_dir = os.path.join(test_dir, 'cats')\n",
    "test_dogs_dir = os.path.join(test_dir, 'dogs')\n",
    "\n",
    "IMG_WIDTH = 160\n",
    "IMG_HEIGHT = 160\n",
    "BATCH_SIZE = 64\n",
    "EPOCHS= 100"
   ]
  },
  {
   "cell_type": "code",
   "execution_count": 5,
   "metadata": {},
   "outputs": [
    {
     "name": "stdout",
     "output_type": "stream",
     "text": [
      "total training cat images: 1000\n",
      "total training dog images: 1000\n"
     ]
    }
   ],
   "source": [
    "print('total training cat images:', len(os.listdir(train_cats_dir)))\n",
    "print('total training dog images:', len(os.listdir(train_dogs_dir)))"
   ]
  },
  {
   "cell_type": "code",
   "execution_count": 6,
   "metadata": {},
   "outputs": [],
   "source": [
    "#generate training data with augmentation\n",
    "train_datagen = ImageDataGenerator( rotation_range=15,\n",
    "                                    rescale=1./255,\n",
    "                                    shear_range=0.2,\n",
    "                                    zoom_range=0.2,\n",
    "                                    horizontal_flip=True,\n",
    "                                    width_shift_range=0.1,\n",
    "                                    height_shift_range=0.1)\n",
    "\n",
    "valid_datagen = ImageDataGenerator(rescale=1./255)"
   ]
  },
  {
   "cell_type": "code",
   "execution_count": 7,
   "metadata": {},
   "outputs": [
    {
     "name": "stdout",
     "output_type": "stream",
     "text": [
      "Found 2000 images belonging to 2 classes.\n",
      "Found 1000 images belonging to 2 classes.\n"
     ]
    }
   ],
   "source": [
    "train_generator = train_datagen.flow_from_directory(\n",
    "        train_dir,\n",
    "        target_size=(IMG_WIDTH, IMG_HEIGHT),\n",
    "        batch_size=BATCH_SIZE,\n",
    "        class_mode='binary')\n",
    "\n",
    "validation_generator = valid_datagen.flow_from_directory(\n",
    "        validation_dir,\n",
    "        target_size=(IMG_WIDTH, IMG_HEIGHT),\n",
    "        batch_size=BATCH_SIZE,\n",
    "        class_mode='binary')"
   ]
  },
  {
   "cell_type": "code",
   "execution_count": 8,
   "metadata": {},
   "outputs": [
    {
     "data": {
      "text/plain": [
       "32"
      ]
     },
     "execution_count": 8,
     "metadata": {},
     "output_type": "execute_result"
    }
   ],
   "source": [
    "train_generator.__len__()"
   ]
  },
  {
   "cell_type": "code",
   "execution_count": 9,
   "metadata": {},
   "outputs": [],
   "source": [
    "def build_model(name):\n",
    "    inputs = keras.Input(shape=(IMG_WIDTH, IMG_HEIGHT, 3))\n",
    "    x = layers.Conv2D(64, (5, 5), padding='same', activation='relu')(inputs)\n",
    "    x = layers.MaxPool2D(pool_size=3,strides=2,padding='same')(x)\n",
    "    x = layers.BatchNormalization()(x)\n",
    "    \n",
    "    x = layers.Conv2D(64, (5, 5), padding='same', activation='relu')(x)\n",
    "    x = layers.MaxPool2D(pool_size=3,strides=2,padding='same')(x)\n",
    "    x = layers.BatchNormalization()(x)\n",
    "    \n",
    "    x = layers.Flatten()(x)\n",
    "    x = layers.Dense(384, activation='relu')(x)\n",
    "    x = layers.Dropout(0.5)(x)\n",
    "    x = layers.Dense(128, activation='relu')(x)\n",
    "    x = layers.Dense(64, activation='relu')(x)\n",
    "    x = layers.Dense(32, activation='relu')(x)\n",
    "    outputs = layers.Dense(1, activation='sigmoid')(x)\n",
    "    \n",
    "    model = keras.Model(inputs, outputs, name=name)\n",
    "    model.summary()\n",
    "    \n",
    "    return model"
   ]
  },
  {
   "cell_type": "code",
   "execution_count": 10,
   "metadata": {},
   "outputs": [],
   "source": [
    "# Set a learning rate annealer\n",
    "learning_rate_reduction = ReduceLROnPlateau(monitor='val_binary_accuracy', \n",
    "                                            patience=3, \n",
    "                                            verbose=1, \n",
    "                                            factor=0.5, \n",
    "                                            min_lr=0.00001)"
   ]
  },
  {
   "cell_type": "code",
   "execution_count": 11,
   "metadata": {},
   "outputs": [],
   "source": [
    "optimizer = RMSprop(lr=0.001, rho=0.9, epsilon=1e-08, decay=0.0)\n",
    "#optimizer = keras.optimizers.Adam()"
   ]
  },
  {
   "cell_type": "code",
   "execution_count": 12,
   "metadata": {},
   "outputs": [],
   "source": [
    "model_dir = 'lab_logs_datagen/modelsAdam/'\n",
    "if not os.path.isdir(model_dir):\n",
    "    os.makedirs(model_dir)"
   ]
  },
  {
   "cell_type": "code",
   "execution_count": 13,
   "metadata": {},
   "outputs": [],
   "source": [
    "model_mckp = keras.callbacks.ModelCheckpoint(model_dir + '/checkpoint.h5',\n",
    "                                            monitor='val_binary_accuracy',\n",
    "                                            save_best_only=True,\n",
    "                                            mode='max')"
   ]
  },
  {
   "cell_type": "code",
   "execution_count": 14,
   "metadata": {},
   "outputs": [
    {
     "name": "stdout",
     "output_type": "stream",
     "text": [
      "Model: \"model\"\n",
      "_________________________________________________________________\n",
      "Layer (type)                 Output Shape              Param #   \n",
      "=================================================================\n",
      "input_1 (InputLayer)         [(None, 160, 160, 3)]     0         \n",
      "_________________________________________________________________\n",
      "conv2d (Conv2D)              (None, 160, 160, 64)      4864      \n",
      "_________________________________________________________________\n",
      "max_pooling2d (MaxPooling2D) (None, 80, 80, 64)        0         \n",
      "_________________________________________________________________\n",
      "batch_normalization (BatchNo (None, 80, 80, 64)        256       \n",
      "_________________________________________________________________\n",
      "conv2d_1 (Conv2D)            (None, 80, 80, 64)        102464    \n",
      "_________________________________________________________________\n",
      "max_pooling2d_1 (MaxPooling2 (None, 40, 40, 64)        0         \n",
      "_________________________________________________________________\n",
      "batch_normalization_1 (Batch (None, 40, 40, 64)        256       \n",
      "_________________________________________________________________\n",
      "flatten (Flatten)            (None, 102400)            0         \n",
      "_________________________________________________________________\n",
      "dense (Dense)                (None, 384)               39321984  \n",
      "_________________________________________________________________\n",
      "dropout (Dropout)            (None, 384)               0         \n",
      "_________________________________________________________________\n",
      "dense_1 (Dense)              (None, 128)               49280     \n",
      "_________________________________________________________________\n",
      "dense_2 (Dense)              (None, 64)                8256      \n",
      "_________________________________________________________________\n",
      "dense_3 (Dense)              (None, 32)                2080      \n",
      "_________________________________________________________________\n",
      "dense_4 (Dense)              (None, 1)                 33        \n",
      "=================================================================\n",
      "Total params: 39,489,473\n",
      "Trainable params: 39,489,217\n",
      "Non-trainable params: 256\n",
      "_________________________________________________________________\n"
     ]
    }
   ],
   "source": [
    "model = build_model('model')\n",
    "model.compile( optimizer = optimizer,\n",
    "               loss=keras.losses.BinaryCrossentropy(),\n",
    "               metrics=[keras.metrics.BinaryAccuracy()])"
   ]
  },
  {
   "cell_type": "code",
   "execution_count": 15,
   "metadata": {
    "scrolled": true
   },
   "outputs": [
    {
     "name": "stdout",
     "output_type": "stream",
     "text": [
      "Epoch 1/100\n",
      "64/64 [==============================] - 83s 1s/step - loss: 3.6721 - binary_accuracy: 0.5370 - val_loss: 0.7171 - val_binary_accuracy: 0.5280\n",
      "Epoch 2/100\n",
      "64/64 [==============================] - 39s 602ms/step - loss: 1.2080 - binary_accuracy: 0.5433 - val_loss: 0.6934 - val_binary_accuracy: 0.5330\n",
      "Epoch 3/100\n",
      "64/64 [==============================] - 38s 586ms/step - loss: 0.8844 - binary_accuracy: 0.5355 - val_loss: 0.7330 - val_binary_accuracy: 0.4990\n",
      "Epoch 4/100\n",
      "64/64 [==============================] - 37s 576ms/step - loss: 0.7982 - binary_accuracy: 0.5440 - val_loss: 0.7114 - val_binary_accuracy: 0.5310\n",
      "Epoch 5/100\n",
      "64/64 [==============================] - 40s 626ms/step - loss: 0.7713 - binary_accuracy: 0.5555 - val_loss: 0.8084 - val_binary_accuracy: 0.5400\n",
      "Epoch 6/100\n",
      "64/64 [==============================] - 39s 604ms/step - loss: 0.7253 - binary_accuracy: 0.5732 - val_loss: 0.6787 - val_binary_accuracy: 0.5590\n",
      "Epoch 7/100\n",
      "64/64 [==============================] - 39s 614ms/step - loss: 0.6794 - binary_accuracy: 0.6068 - val_loss: 0.7083 - val_binary_accuracy: 0.5900\n",
      "Epoch 8/100\n",
      "64/64 [==============================] - 40s 619ms/step - loss: 0.6607 - binary_accuracy: 0.6208 - val_loss: 0.7841 - val_binary_accuracy: 0.6280\n",
      "Epoch 9/100\n",
      "64/64 [==============================] - 39s 611ms/step - loss: 0.6491 - binary_accuracy: 0.6382 - val_loss: 0.5913 - val_binary_accuracy: 0.6760\n",
      "Epoch 10/100\n",
      "64/64 [==============================] - 36s 567ms/step - loss: 0.6293 - binary_accuracy: 0.6622 - val_loss: 0.9966 - val_binary_accuracy: 0.5850\n",
      "Epoch 11/100\n",
      "64/64 [==============================] - 36s 556ms/step - loss: 0.6366 - binary_accuracy: 0.6710 - val_loss: 1.0668 - val_binary_accuracy: 0.5080\n",
      "Epoch 12/100\n",
      "63/64 [============================>.] - ETA: 0s - loss: 0.6101 - binary_accuracy: 0.6735\n",
      "Epoch 00012: ReduceLROnPlateau reducing learning rate to 0.0005000000237487257.\n",
      "64/64 [==============================] - 35s 554ms/step - loss: 0.6114 - binary_accuracy: 0.6722 - val_loss: 0.7240 - val_binary_accuracy: 0.6390\n",
      "Epoch 13/100\n",
      "64/64 [==============================] - 38s 595ms/step - loss: 0.5883 - binary_accuracy: 0.6858 - val_loss: 0.5897 - val_binary_accuracy: 0.7140\n",
      "Epoch 14/100\n",
      "64/64 [==============================] - 55s 866ms/step - loss: 0.5595 - binary_accuracy: 0.7195 - val_loss: 0.5444 - val_binary_accuracy: 0.7250\n",
      "Epoch 15/100\n",
      "64/64 [==============================] - 52s 816ms/step - loss: 0.5149 - binary_accuracy: 0.7423 - val_loss: 0.4933 - val_binary_accuracy: 0.7570\n",
      "Epoch 16/100\n",
      "64/64 [==============================] - 37s 579ms/step - loss: 0.5174 - binary_accuracy: 0.7427 - val_loss: 0.5122 - val_binary_accuracy: 0.7470\n",
      "Epoch 17/100\n",
      "64/64 [==============================] - 37s 570ms/step - loss: 0.5062 - binary_accuracy: 0.7577 - val_loss: 0.4918 - val_binary_accuracy: 0.7460\n",
      "Epoch 18/100\n",
      "63/64 [============================>.] - ETA: 0s - loss: 0.5119 - binary_accuracy: 0.7569\n",
      "Epoch 00018: ReduceLROnPlateau reducing learning rate to 0.0002500000118743628.\n",
      "64/64 [==============================] - 36s 566ms/step - loss: 0.5097 - binary_accuracy: 0.7588 - val_loss: 0.5444 - val_binary_accuracy: 0.7090\n",
      "Epoch 19/100\n",
      "64/64 [==============================] - 40s 618ms/step - loss: 0.4725 - binary_accuracy: 0.7840 - val_loss: 0.4422 - val_binary_accuracy: 0.8100\n",
      "Epoch 20/100\n",
      "64/64 [==============================] - 37s 575ms/step - loss: 0.4562 - binary_accuracy: 0.7870 - val_loss: 0.4687 - val_binary_accuracy: 0.7650\n",
      "Epoch 21/100\n",
      "64/64 [==============================] - 39s 603ms/step - loss: 0.4436 - binary_accuracy: 0.7918 - val_loss: 0.4668 - val_binary_accuracy: 0.7820\n",
      "Epoch 22/100\n",
      "63/64 [============================>.] - ETA: 0s - loss: 0.4314 - binary_accuracy: 0.7934\n",
      "Epoch 00022: ReduceLROnPlateau reducing learning rate to 0.0001250000059371814.\n",
      "64/64 [==============================] - 37s 579ms/step - loss: 0.4328 - binary_accuracy: 0.7937 - val_loss: 0.4673 - val_binary_accuracy: 0.7700\n",
      "Epoch 23/100\n",
      "64/64 [==============================] - 38s 589ms/step - loss: 0.4112 - binary_accuracy: 0.8127 - val_loss: 0.4338 - val_binary_accuracy: 0.7950\n",
      "Epoch 24/100\n",
      "64/64 [==============================] - 37s 575ms/step - loss: 0.4016 - binary_accuracy: 0.8223 - val_loss: 0.4424 - val_binary_accuracy: 0.7770\n",
      "Epoch 25/100\n",
      "63/64 [============================>.] - ETA: 0s - loss: 0.3916 - binary_accuracy: 0.8186\n",
      "Epoch 00025: ReduceLROnPlateau reducing learning rate to 6.25000029685907e-05.\n",
      "64/64 [==============================] - 38s 594ms/step - loss: 0.3925 - binary_accuracy: 0.8180 - val_loss: 0.4134 - val_binary_accuracy: 0.8030\n",
      "Epoch 26/100\n",
      "64/64 [==============================] - 37s 579ms/step - loss: 0.3900 - binary_accuracy: 0.8320 - val_loss: 0.4256 - val_binary_accuracy: 0.7930\n",
      "Epoch 27/100\n",
      "64/64 [==============================] - 37s 582ms/step - loss: 0.3764 - binary_accuracy: 0.8353 - val_loss: 0.4150 - val_binary_accuracy: 0.8030\n",
      "Epoch 28/100\n",
      "63/64 [============================>.] - ETA: 0s - loss: 0.3764 - binary_accuracy: 0.8338\n",
      "Epoch 00028: ReduceLROnPlateau reducing learning rate to 3.125000148429535e-05.\n",
      "64/64 [==============================] - 38s 592ms/step - loss: 0.3765 - binary_accuracy: 0.8340 - val_loss: 0.4131 - val_binary_accuracy: 0.8010\n",
      "Epoch 29/100\n",
      "64/64 [==============================] - 36s 556ms/step - loss: 0.3750 - binary_accuracy: 0.8350 - val_loss: 0.4083 - val_binary_accuracy: 0.7960\n",
      "Epoch 30/100\n",
      "64/64 [==============================] - 36s 570ms/step - loss: 0.3766 - binary_accuracy: 0.8338 - val_loss: 0.4150 - val_binary_accuracy: 0.7980\n",
      "Epoch 31/100\n",
      "63/64 [============================>.] - ETA: 0s - loss: 0.3695 - binary_accuracy: 0.8308\n",
      "Epoch 00031: ReduceLROnPlateau reducing learning rate to 1.5625000742147677e-05.\n",
      "64/64 [==============================] - 35s 554ms/step - loss: 0.3691 - binary_accuracy: 0.8315 - val_loss: 0.4226 - val_binary_accuracy: 0.8000\n",
      "Epoch 32/100\n",
      "64/64 [==============================] - 35s 552ms/step - loss: 0.3721 - binary_accuracy: 0.8355 - val_loss: 0.4112 - val_binary_accuracy: 0.8000\n",
      "Epoch 33/100\n",
      "64/64 [==============================] - 35s 553ms/step - loss: 0.3573 - binary_accuracy: 0.8375 - val_loss: 0.4038 - val_binary_accuracy: 0.8050\n",
      "Epoch 34/100\n",
      "63/64 [============================>.] - ETA: 0s - loss: 0.3652 - binary_accuracy: 0.8351\n",
      "Epoch 00034: ReduceLROnPlateau reducing learning rate to 1e-05.\n",
      "64/64 [==============================] - 35s 548ms/step - loss: 0.3659 - binary_accuracy: 0.8342 - val_loss: 0.4031 - val_binary_accuracy: 0.8050\n",
      "Epoch 35/100\n",
      "64/64 [==============================] - 36s 563ms/step - loss: 0.3714 - binary_accuracy: 0.8365 - val_loss: 0.4054 - val_binary_accuracy: 0.8010\n",
      "Epoch 36/100\n",
      "64/64 [==============================] - 36s 555ms/step - loss: 0.3581 - binary_accuracy: 0.8397 - val_loss: 0.4105 - val_binary_accuracy: 0.7990\n",
      "Epoch 37/100\n",
      "64/64 [==============================] - 36s 565ms/step - loss: 0.3680 - binary_accuracy: 0.8372 - val_loss: 0.4104 - val_binary_accuracy: 0.7950\n",
      "Epoch 38/100\n",
      "64/64 [==============================] - 35s 549ms/step - loss: 0.3550 - binary_accuracy: 0.8410 - val_loss: 0.4048 - val_binary_accuracy: 0.8040\n",
      "Epoch 39/100\n",
      "64/64 [==============================] - 36s 559ms/step - loss: 0.3704 - binary_accuracy: 0.8425 - val_loss: 0.4052 - val_binary_accuracy: 0.8000\n",
      "Epoch 40/100\n",
      "64/64 [==============================] - 35s 551ms/step - loss: 0.3646 - binary_accuracy: 0.8410 - val_loss: 0.4026 - val_binary_accuracy: 0.8020\n",
      "Epoch 41/100\n",
      "64/64 [==============================] - 35s 551ms/step - loss: 0.3506 - binary_accuracy: 0.8395 - val_loss: 0.4069 - val_binary_accuracy: 0.7960\n",
      "Epoch 42/100\n",
      "64/64 [==============================] - 36s 560ms/step - loss: 0.3659 - binary_accuracy: 0.8407 - val_loss: 0.4116 - val_binary_accuracy: 0.7970\n",
      "Epoch 43/100\n",
      "64/64 [==============================] - 36s 558ms/step - loss: 0.3594 - binary_accuracy: 0.8455 - val_loss: 0.4098 - val_binary_accuracy: 0.7990\n",
      "Epoch 44/100\n",
      "64/64 [==============================] - 36s 555ms/step - loss: 0.3613 - binary_accuracy: 0.8345 - val_loss: 0.4075 - val_binary_accuracy: 0.8030\n",
      "Epoch 45/100\n"
     ]
    },
    {
     "name": "stdout",
     "output_type": "stream",
     "text": [
      "64/64 [==============================] - 35s 552ms/step - loss: 0.3650 - binary_accuracy: 0.8388 - val_loss: 0.4057 - val_binary_accuracy: 0.7990\n",
      "Epoch 46/100\n",
      "64/64 [==============================] - 36s 563ms/step - loss: 0.3559 - binary_accuracy: 0.8482 - val_loss: 0.4032 - val_binary_accuracy: 0.7970\n",
      "Epoch 47/100\n",
      "64/64 [==============================] - 35s 551ms/step - loss: 0.3532 - binary_accuracy: 0.8460 - val_loss: 0.4032 - val_binary_accuracy: 0.8000\n",
      "Epoch 48/100\n",
      "64/64 [==============================] - 36s 566ms/step - loss: 0.3718 - binary_accuracy: 0.8393 - val_loss: 0.4052 - val_binary_accuracy: 0.8080\n",
      "Epoch 49/100\n",
      "64/64 [==============================] - 36s 569ms/step - loss: 0.3543 - binary_accuracy: 0.8455 - val_loss: 0.4070 - val_binary_accuracy: 0.7950\n",
      "Epoch 50/100\n",
      "64/64 [==============================] - 37s 571ms/step - loss: 0.3605 - binary_accuracy: 0.8335 - val_loss: 0.4074 - val_binary_accuracy: 0.7980\n",
      "Epoch 51/100\n",
      "64/64 [==============================] - 35s 554ms/step - loss: 0.3533 - binary_accuracy: 0.8547 - val_loss: 0.4061 - val_binary_accuracy: 0.8050\n",
      "Epoch 52/100\n",
      "64/64 [==============================] - 40s 632ms/step - loss: 0.3520 - binary_accuracy: 0.8460 - val_loss: 0.4064 - val_binary_accuracy: 0.7990\n",
      "Epoch 53/100\n",
      "64/64 [==============================] - 40s 618ms/step - loss: 0.3606 - binary_accuracy: 0.8390 - val_loss: 0.4084 - val_binary_accuracy: 0.7980\n",
      "Epoch 54/100\n",
      "64/64 [==============================] - 38s 590ms/step - loss: 0.3557 - binary_accuracy: 0.8375 - val_loss: 0.4042 - val_binary_accuracy: 0.8020\n",
      "Epoch 55/100\n",
      "64/64 [==============================] - 42s 649ms/step - loss: 0.3532 - binary_accuracy: 0.8403 - val_loss: 0.4056 - val_binary_accuracy: 0.8030\n",
      "Epoch 56/100\n",
      "64/64 [==============================] - 39s 610ms/step - loss: 0.3431 - binary_accuracy: 0.8533 - val_loss: 0.4057 - val_binary_accuracy: 0.7920\n",
      "Epoch 57/100\n",
      "64/64 [==============================] - 40s 629ms/step - loss: 0.3580 - binary_accuracy: 0.8445 - val_loss: 0.4039 - val_binary_accuracy: 0.8020\n",
      "Epoch 58/100\n",
      "64/64 [==============================] - 40s 626ms/step - loss: 0.3596 - binary_accuracy: 0.8462 - val_loss: 0.4046 - val_binary_accuracy: 0.7960\n",
      "Epoch 59/100\n",
      "64/64 [==============================] - 42s 649ms/step - loss: 0.3382 - binary_accuracy: 0.8518 - val_loss: 0.4036 - val_binary_accuracy: 0.8040\n",
      "Epoch 60/100\n",
      "64/64 [==============================] - 40s 632ms/step - loss: 0.3511 - binary_accuracy: 0.8482 - val_loss: 0.4065 - val_binary_accuracy: 0.8050\n",
      "Epoch 61/100\n",
      "64/64 [==============================] - 38s 595ms/step - loss: 0.3456 - binary_accuracy: 0.8475 - val_loss: 0.4009 - val_binary_accuracy: 0.7980\n",
      "Epoch 62/100\n",
      "64/64 [==============================] - 39s 604ms/step - loss: 0.3547 - binary_accuracy: 0.8462 - val_loss: 0.4022 - val_binary_accuracy: 0.8010\n",
      "Epoch 63/100\n",
      "64/64 [==============================] - 39s 617ms/step - loss: 0.3478 - binary_accuracy: 0.8472 - val_loss: 0.4066 - val_binary_accuracy: 0.7990\n",
      "Epoch 64/100\n",
      "64/64 [==============================] - 37s 579ms/step - loss: 0.3473 - binary_accuracy: 0.8432 - val_loss: 0.4021 - val_binary_accuracy: 0.8050\n",
      "Epoch 65/100\n",
      "64/64 [==============================] - 36s 560ms/step - loss: 0.3385 - binary_accuracy: 0.8500 - val_loss: 0.4009 - val_binary_accuracy: 0.8010\n",
      "Epoch 66/100\n",
      "64/64 [==============================] - 36s 570ms/step - loss: 0.3529 - binary_accuracy: 0.8505 - val_loss: 0.4004 - val_binary_accuracy: 0.8070\n",
      "Epoch 67/100\n",
      "64/64 [==============================] - 37s 578ms/step - loss: 0.3527 - binary_accuracy: 0.8520 - val_loss: 0.4042 - val_binary_accuracy: 0.7980\n",
      "Epoch 68/100\n",
      "64/64 [==============================] - 35s 552ms/step - loss: 0.3485 - binary_accuracy: 0.8515 - val_loss: 0.4036 - val_binary_accuracy: 0.8020\n",
      "Epoch 69/100\n",
      "64/64 [==============================] - 41s 644ms/step - loss: 0.3407 - binary_accuracy: 0.8565 - val_loss: 0.3990 - val_binary_accuracy: 0.8030\n",
      "Epoch 70/100\n",
      "64/64 [==============================] - 36s 570ms/step - loss: 0.3355 - binary_accuracy: 0.8518 - val_loss: 0.4045 - val_binary_accuracy: 0.7990\n",
      "Epoch 71/100\n",
      "64/64 [==============================] - 37s 584ms/step - loss: 0.3643 - binary_accuracy: 0.8460 - val_loss: 0.4022 - val_binary_accuracy: 0.7990\n",
      "Epoch 72/100\n",
      "64/64 [==============================] - 53s 827ms/step - loss: 0.3384 - binary_accuracy: 0.8597 - val_loss: 0.3994 - val_binary_accuracy: 0.8040\n",
      "Epoch 73/100\n",
      "64/64 [==============================] - 36s 559ms/step - loss: 0.3533 - binary_accuracy: 0.8478 - val_loss: 0.4031 - val_binary_accuracy: 0.8000\n",
      "Epoch 74/100\n",
      "64/64 [==============================] - 35s 551ms/step - loss: 0.3427 - binary_accuracy: 0.8482 - val_loss: 0.4025 - val_binary_accuracy: 0.8010\n",
      "Epoch 75/100\n",
      "64/64 [==============================] - 36s 561ms/step - loss: 0.3586 - binary_accuracy: 0.8407 - val_loss: 0.4032 - val_binary_accuracy: 0.7990\n",
      "Epoch 76/100\n",
      "64/64 [==============================] - 36s 556ms/step - loss: 0.3534 - binary_accuracy: 0.8480 - val_loss: 0.4004 - val_binary_accuracy: 0.8030\n",
      "Epoch 77/100\n",
      "64/64 [==============================] - 47s 728ms/step - loss: 0.3459 - binary_accuracy: 0.8503 - val_loss: 0.4003 - val_binary_accuracy: 0.8030\n",
      "Epoch 78/100\n",
      "64/64 [==============================] - 61s 960ms/step - loss: 0.3490 - binary_accuracy: 0.8535 - val_loss: 0.4024 - val_binary_accuracy: 0.8030\n",
      "Epoch 79/100\n",
      "64/64 [==============================] - 63s 992ms/step - loss: 0.3408 - binary_accuracy: 0.8525 - val_loss: 0.4028 - val_binary_accuracy: 0.7990\n",
      "Epoch 80/100\n",
      "64/64 [==============================] - 63s 982ms/step - loss: 0.3418 - binary_accuracy: 0.8475 - val_loss: 0.4012 - val_binary_accuracy: 0.8020\n",
      "Epoch 81/100\n",
      "64/64 [==============================] - 62s 962ms/step - loss: 0.3536 - binary_accuracy: 0.8497 - val_loss: 0.4050 - val_binary_accuracy: 0.7980\n",
      "Epoch 82/100\n",
      "64/64 [==============================] - 59s 926ms/step - loss: 0.3404 - binary_accuracy: 0.8555 - val_loss: 0.4001 - val_binary_accuracy: 0.8060\n",
      "Epoch 83/100\n",
      "64/64 [==============================] - 59s 919ms/step - loss: 0.3285 - binary_accuracy: 0.8500 - val_loss: 0.3989 - val_binary_accuracy: 0.8010\n",
      "Epoch 84/100\n",
      "64/64 [==============================] - 56s 868ms/step - loss: 0.3435 - binary_accuracy: 0.8535 - val_loss: 0.4047 - val_binary_accuracy: 0.8000\n",
      "Epoch 85/100\n",
      "64/64 [==============================] - 59s 924ms/step - loss: 0.3350 - binary_accuracy: 0.8545 - val_loss: 0.4017 - val_binary_accuracy: 0.7960\n",
      "Epoch 86/100\n",
      "64/64 [==============================] - 58s 914ms/step - loss: 0.3413 - binary_accuracy: 0.8533 - val_loss: 0.4050 - val_binary_accuracy: 0.7970\n",
      "Epoch 87/100\n",
      "64/64 [==============================] - 60s 942ms/step - loss: 0.3387 - binary_accuracy: 0.8503 - val_loss: 0.4017 - val_binary_accuracy: 0.8020\n",
      "Epoch 88/100\n",
      "64/64 [==============================] - 58s 904ms/step - loss: 0.3350 - binary_accuracy: 0.8558 - val_loss: 0.4038 - val_binary_accuracy: 0.8000\n",
      "Epoch 89/100\n",
      "64/64 [==============================] - 61s 958ms/step - loss: 0.3448 - binary_accuracy: 0.8555 - val_loss: 0.4013 - val_binary_accuracy: 0.8030\n",
      "Epoch 90/100\n",
      "64/64 [==============================] - 62s 971ms/step - loss: 0.3366 - binary_accuracy: 0.8555 - val_loss: 0.4027 - val_binary_accuracy: 0.7950\n",
      "Epoch 91/100\n",
      "64/64 [==============================] - 62s 975ms/step - loss: 0.3276 - binary_accuracy: 0.8560 - val_loss: 0.4014 - val_binary_accuracy: 0.8080\n",
      "Epoch 92/100\n",
      "64/64 [==============================] - 64s 1s/step - loss: 0.3439 - binary_accuracy: 0.8503 - val_loss: 0.4019 - val_binary_accuracy: 0.7950\n",
      "Epoch 93/100\n",
      "64/64 [==============================] - 57s 892ms/step - loss: 0.3265 - binary_accuracy: 0.8645 - val_loss: 0.4050 - val_binary_accuracy: 0.7980\n",
      "Epoch 94/100\n",
      "64/64 [==============================] - 66s 1s/step - loss: 0.3380 - binary_accuracy: 0.8558 - val_loss: 0.4088 - val_binary_accuracy: 0.7980\n",
      "Epoch 95/100\n",
      "64/64 [==============================] - 55s 863ms/step - loss: 0.3325 - binary_accuracy: 0.8580 - val_loss: 0.4035 - val_binary_accuracy: 0.7920\n",
      "Epoch 96/100\n"
     ]
    },
    {
     "name": "stdout",
     "output_type": "stream",
     "text": [
      "64/64 [==============================] - 63s 978ms/step - loss: 0.3173 - binary_accuracy: 0.8633 - val_loss: 0.4047 - val_binary_accuracy: 0.7940\n",
      "Epoch 97/100\n",
      "64/64 [==============================] - 58s 907ms/step - loss: 0.3258 - binary_accuracy: 0.8545 - val_loss: 0.4087 - val_binary_accuracy: 0.8010\n",
      "Epoch 98/100\n",
      "64/64 [==============================] - 55s 853ms/step - loss: 0.3333 - binary_accuracy: 0.8572 - val_loss: 0.4062 - val_binary_accuracy: 0.8000\n",
      "Epoch 99/100\n",
      "64/64 [==============================] - 59s 923ms/step - loss: 0.3390 - binary_accuracy: 0.8610 - val_loss: 0.4032 - val_binary_accuracy: 0.7980\n",
      "Epoch 100/100\n",
      "64/64 [==============================] - 58s 905ms/step - loss: 0.3422 - binary_accuracy: 0.8562 - val_loss: 0.4022 - val_binary_accuracy: 0.7940\n"
     ]
    }
   ],
   "source": [
    "history = model.fit_generator(\n",
    "                              train_generator,\n",
    "                              steps_per_epoch=BATCH_SIZE,\n",
    "                              callbacks=[learning_rate_reduction, model_mckp],\n",
    "                              epochs=EPOCHS,\n",
    "                              validation_data=validation_generator,\n",
    "                              validation_steps=BATCH_SIZE)"
   ]
  },
  {
   "cell_type": "code",
   "execution_count": 16,
   "metadata": {},
   "outputs": [
    {
     "data": {
      "image/png": "[encoded data removed]",
      "text/plain": [
       "<Figure size 576x288 with 1 Axes>"
      ]
     },
     "metadata": {
      "needs_background": "light"
     },
     "output_type": "display_data"
    }
   ],
   "source": [
    "plt.figure(figsize=(8,4))\n",
    "plt.plot(history.history['loss'], label='train')\n",
    "plt.plot(history.history['val_loss'], label='validation')\n",
    "plt.ylabel('loss')\n",
    "plt.xlabel('epochs')\n",
    "plt.legend(loc='upper right')\n",
    "plt.show()"
   ]
  },
  {
   "cell_type": "code",
   "execution_count": 17,
   "metadata": {},
   "outputs": [
    {
     "data": {
      "image/png": "[encoded data removed]",
      "text/plain": [
       "<Figure size 576x288 with 1 Axes>"
      ]
     },
     "metadata": {
      "needs_background": "light"
     },
     "output_type": "display_data"
    }
   ],
   "source": [
    "plt.figure(figsize=(8,4))\n",
    "plt.plot(history.history['binary_accuracy'], label='train')\n",
    "plt.plot(history.history['val_binary_accuracy'], label='validation')\n",
    "plt.ylabel('metrics')\n",
    "plt.xlabel('epochs')\n",
    "plt.legend(loc='lower right')\n",
    "plt.show()"
   ]
  },
  {
   "cell_type": "code",
   "execution_count": null,
   "metadata": {},
   "outputs": [],
   "source": []
  }
 ],
 "metadata": {
  "kernelspec": {
   "display_name": "Python 3",
   "language": "python",
   "name": "python3"
  },
  "language_info": {
   "codemirror_mode": {
    "name": "ipython",
    "version": 3
   },
   "file_extension": ".py",
   "mimetype": "text/x-python",
   "name": "python",
   "nbconvert_exporter": "python",
   "pygments_lexer": "ipython3",
   "version": "3.7.3"
  }
 },
 "nbformat": 4,
 "nbformat_minor": 2
}
