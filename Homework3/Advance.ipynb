{
 "cells": [
  {
   "cell_type": "markdown",
   "metadata": {},
   "source": [
    "#### Imports"
   ]
  },
  {
   "cell_type": "code",
   "execution_count": 13,
   "metadata": {},
   "outputs": [],
   "source": [
    "import numpy as np\n",
    "import os\n",
    "import zipfile\n",
    "import time\n",
    "import tensorflow as tf\n",
    "from tensorflow import keras\n",
    "from tensorflow.keras.preprocessing.image import ImageDataGenerator\n",
    "from tensorflow_model_optimization.sparsity import keras as sparsity\n",
    "from tensorflow_model_optimization.python.core.sparsity.keras import prune\n",
    "from tensorflow_model_optimization.python.core.sparsity.keras import pruning_callbacks\n",
    "from tensorflow_model_optimization.python.core.sparsity.keras import pruning_schedule\n",
    "from tensorflow.keras.optimizers import RMSprop\n",
    "from tensorflow.keras.callbacks import ReduceLROnPlateau"
   ]
  },
  {
   "cell_type": "code",
   "execution_count": 14,
   "metadata": {},
   "outputs": [],
   "source": [
    "try:\n",
    "    import tensorflow.compat.v2 as tf\n",
    "except Exception:\n",
    "    pass\n",
    "tf.enable_v2_behavior()"
   ]
  },
  {
   "cell_type": "markdown",
   "metadata": {},
   "source": [
    "#### Call GPU"
   ]
  },
  {
   "cell_type": "code",
   "execution_count": 15,
   "metadata": {},
   "outputs": [
    {
     "name": "stdout",
     "output_type": "stream",
     "text": [
      "1 Physical GPUs, 1 Logical GPUs\n"
     ]
    }
   ],
   "source": [
    "gpus = tf.config.experimental.list_physical_devices('GPU')\n",
    "if gpus:\n",
    "    try:\n",
    "        # Restrict TensorFlow to only use the fourth GPU\n",
    "        tf.config.experimental.set_visible_devices(gpus[0], 'GPU')\n",
    "\n",
    "        # Currently, memory growth needs to be the same across GPUs\n",
    "        for gpu in gpus:\n",
    "            tf.config.experimental.set_memory_growth(gpu, True)\n",
    "        logical_gpus = tf.config.experimental.list_logical_devices('GPU')\n",
    "        print(len(gpus), \"Physical GPUs,\", len(logical_gpus), \"Logical GPUs\")\n",
    "    except RuntimeError as e:\n",
    "        # Memory growth must be set before GPUs have been initialized\n",
    "        print(e)"
   ]
  },
  {
   "cell_type": "markdown",
   "metadata": {},
   "source": [
    "#### Initial Settings"
   ]
  },
  {
   "cell_type": "code",
   "execution_count": 16,
   "metadata": {},
   "outputs": [],
   "source": [
    "base_dir = 'cats_and_dogs_small'\n",
    "\n",
    "train_dir = os.path.join(base_dir, 'train')\n",
    "validation_dir = os.path.join(base_dir, 'validation')\n",
    "train_cats_dir = os.path.join(train_dir, 'cats')\n",
    "train_dogs_dir = os.path.join(train_dir, 'dogs')\n",
    "validation_cats_dir = os.path.join(validation_dir, 'cats')\n",
    "validation_dogs_dir = os.path.join(validation_dir, 'dogs')\n",
    "\n",
    "EPOCHS = 15\n",
    "WIDTH = 150\n",
    "HEIGHT = 150\n",
    "OPTIMIZERS = keras.optimizers.SGD(lr = 0.01)"
   ]
  },
  {
   "cell_type": "markdown",
   "metadata": {},
   "source": [
    "#### Image Data Generator"
   ]
  },
  {
   "cell_type": "code",
   "execution_count": 17,
   "metadata": {},
   "outputs": [],
   "source": [
    "train_datagen = ImageDataGenerator(\n",
    "                    rescale=1./255,)\n",
    "test_datagen = ImageDataGenerator(rescale=1./255)"
   ]
  },
  {
   "cell_type": "code",
   "execution_count": 18,
   "metadata": {},
   "outputs": [
    {
     "name": "stdout",
     "output_type": "stream",
     "text": [
      "Found 2000 images belonging to 2 classes.\n",
      "Found 1000 images belonging to 2 classes.\n"
     ]
    }
   ],
   "source": [
    "train_generator = train_datagen.flow_from_directory(\n",
    "        train_dir,\n",
    "        target_size=(WIDTH, HEIGHT),\n",
    "        batch_size=8,\n",
    "        class_mode='binary')\n",
    "\n",
    "validation_generator = test_datagen.flow_from_directory(\n",
    "        validation_dir,\n",
    "        target_size=(WIDTH, HEIGHT),\n",
    "        batch_size=8,\n",
    "        class_mode='binary')"
   ]
  },
  {
   "cell_type": "markdown",
   "metadata": {},
   "source": [
    "#### Build VGG16 model"
   ]
  },
  {
   "cell_type": "code",
   "execution_count": 19,
   "metadata": {},
   "outputs": [],
   "source": [
    "# Set a learning rate annealer\n",
    "learning_rate_reduction = ReduceLROnPlateau(monitor='val_acc', \n",
    "                                            patience=3, \n",
    "                                            verbose=1, \n",
    "                                            factor=0.5, \n",
    "                                            min_lr=0.00001)"
   ]
  },
  {
   "cell_type": "code",
   "execution_count": 20,
   "metadata": {},
   "outputs": [],
   "source": [
    "def create_model():\n",
    "    base =  tf.keras.applications.VGG16(include_top=False, weights='imagenet', input_shape=(WIDTH, HEIGHT, 3))\n",
    "    x = tf.keras.layers.GlobalAveragePooling2D()(base.output)\n",
    "    output =  tf.keras.layers.Dense(1, activation='sigmoid')(x)\n",
    "\n",
    "    model = tf.keras.Model(inputs=base.input, outputs = output)\n",
    "    model.compile(loss='binary_crossentropy', optimizer=OPTIMIZERS, metrics=['acc'])\n",
    "    model.summary()\n",
    "    return model"
   ]
  },
  {
   "cell_type": "code",
   "execution_count": 9,
   "metadata": {
    "scrolled": false
   },
   "outputs": [
    {
     "name": "stdout",
     "output_type": "stream",
     "text": [
      "Model: \"model\"\n",
      "_________________________________________________________________\n",
      "Layer (type)                 Output Shape              Param #   \n",
      "=================================================================\n",
      "input_1 (InputLayer)         [(None, 150, 150, 3)]     0         \n",
      "_________________________________________________________________\n",
      "block1_conv1 (Conv2D)        (None, 150, 150, 64)      1792      \n",
      "_________________________________________________________________\n",
      "block1_conv2 (Conv2D)        (None, 150, 150, 64)      36928     \n",
      "_________________________________________________________________\n",
      "block1_pool (MaxPooling2D)   (None, 75, 75, 64)        0         \n",
      "_________________________________________________________________\n",
      "block2_conv1 (Conv2D)        (None, 75, 75, 128)       73856     \n",
      "_________________________________________________________________\n",
      "block2_conv2 (Conv2D)        (None, 75, 75, 128)       147584    \n",
      "_________________________________________________________________\n",
      "block2_pool (MaxPooling2D)   (None, 37, 37, 128)       0         \n",
      "_________________________________________________________________\n",
      "block3_conv1 (Conv2D)        (None, 37, 37, 256)       295168    \n",
      "_________________________________________________________________\n",
      "block3_conv2 (Conv2D)        (None, 37, 37, 256)       590080    \n",
      "_________________________________________________________________\n",
      "block3_conv3 (Conv2D)        (None, 37, 37, 256)       590080    \n",
      "_________________________________________________________________\n",
      "block3_pool (MaxPooling2D)   (None, 18, 18, 256)       0         \n",
      "_________________________________________________________________\n",
      "block4_conv1 (Conv2D)        (None, 18, 18, 512)       1180160   \n",
      "_________________________________________________________________\n",
      "block4_conv2 (Conv2D)        (None, 18, 18, 512)       2359808   \n",
      "_________________________________________________________________\n",
      "block4_conv3 (Conv2D)        (None, 18, 18, 512)       2359808   \n",
      "_________________________________________________________________\n",
      "block4_pool (MaxPooling2D)   (None, 9, 9, 512)         0         \n",
      "_________________________________________________________________\n",
      "block5_conv1 (Conv2D)        (None, 9, 9, 512)         2359808   \n",
      "_________________________________________________________________\n",
      "block5_conv2 (Conv2D)        (None, 9, 9, 512)         2359808   \n",
      "_________________________________________________________________\n",
      "block5_conv3 (Conv2D)        (None, 9, 9, 512)         2359808   \n",
      "_________________________________________________________________\n",
      "block5_pool (MaxPooling2D)   (None, 4, 4, 512)         0         \n",
      "_________________________________________________________________\n",
      "global_average_pooling2d (Gl (None, 512)               0         \n",
      "_________________________________________________________________\n",
      "dense (Dense)                (None, 1)                 513       \n",
      "=================================================================\n",
      "Total params: 14,715,201\n",
      "Trainable params: 14,715,201\n",
      "Non-trainable params: 0\n",
      "_________________________________________________________________\n",
      "[INFO] Start training process...\n",
      "Train for 250 steps, validate for 125 steps\n",
      "Epoch 1/15\n",
      "250/250 [==============================] - 59s 238ms/step - loss: 0.4955 - acc: 0.7535 - val_loss: 0.2932 - val_acc: 0.8550\n",
      "Epoch 2/15\n",
      "250/250 [==============================] - 55s 221ms/step - loss: 0.2512 - acc: 0.8940 - val_loss: 0.1965 - val_acc: 0.9130\n",
      "Epoch 3/15\n",
      "250/250 [==============================] - 55s 221ms/step - loss: 0.1475 - acc: 0.9465 - val_loss: 0.1302 - val_acc: 0.9420\n",
      "Epoch 4/15\n",
      "250/250 [==============================] - 55s 220ms/step - loss: 0.3025 - acc: 0.8300 - val_loss: 0.6815 - val_acc: 0.6290\n",
      "Epoch 5/15\n",
      "250/250 [==============================] - 55s 219ms/step - loss: 0.4655 - acc: 0.7265 - val_loss: 0.2214 - val_acc: 0.9190\n",
      "Epoch 6/15\n",
      "250/250 [==============================] - 55s 219ms/step - loss: 0.0665 - acc: 0.9700 - val_loss: 0.1126 - val_acc: 0.9550\n",
      "Epoch 7/15\n",
      "250/250 [==============================] - 55s 218ms/step - loss: 0.4728 - acc: 0.7180 - val_loss: 0.6432 - val_acc: 0.7310\n",
      "Epoch 8/15\n",
      "250/250 [==============================] - 55s 218ms/step - loss: 0.3870 - acc: 0.8075 - val_loss: 0.1704 - val_acc: 0.9280\n",
      "Epoch 9/15\n",
      "249/250 [============================>.] - ETA: 0s - loss: 0.0567 - acc: 0.9809\n",
      "Epoch 00009: ReduceLROnPlateau reducing learning rate to 0.004999999888241291.\n",
      "250/250 [==============================] - 55s 218ms/step - loss: 0.0566 - acc: 0.9810 - val_loss: 0.1544 - val_acc: 0.9450\n",
      "Epoch 10/15\n",
      "250/250 [==============================] - 56s 224ms/step - loss: 0.0078 - acc: 0.9990 - val_loss: 0.1553 - val_acc: 0.9460\n",
      "Epoch 11/15\n",
      "250/250 [==============================] - 55s 221ms/step - loss: 0.0017 - acc: 1.0000 - val_loss: 0.1855 - val_acc: 0.9440\n",
      "Epoch 12/15\n",
      "249/250 [============================>.] - ETA: 0s - loss: 9.2023e-04 - acc: 1.0000\n",
      "Epoch 00012: ReduceLROnPlateau reducing learning rate to 0.0024999999441206455.\n",
      "250/250 [==============================] - 56s 223ms/step - loss: 9.1658e-04 - acc: 1.0000 - val_loss: 0.1848 - val_acc: 0.9500\n",
      "Epoch 13/15\n",
      "250/250 [==============================] - 55s 221ms/step - loss: 6.3105e-04 - acc: 1.0000 - val_loss: 0.1925 - val_acc: 0.9470\n",
      "Epoch 14/15\n",
      "250/250 [==============================] - 55s 221ms/step - loss: 5.3363e-04 - acc: 1.0000 - val_loss: 0.1956 - val_acc: 0.9490\n",
      "Epoch 15/15\n",
      "249/250 [============================>.] - ETA: 0s - loss: 4.6569e-04 - acc: 1.0000\n",
      "Epoch 00015: ReduceLROnPlateau reducing learning rate to 0.0012499999720603228.\n",
      "250/250 [==============================] - 55s 221ms/step - loss: 4.6403e-04 - acc: 1.0000 - val_loss: 0.1985 - val_acc: 0.9500\n",
      "[INFO] Save model to ./models/VGG16_model.h5\n"
     ]
    }
   ],
   "source": [
    "# Create model\n",
    "model = create_model()\n",
    "print('[INFO] Start training process...')\n",
    "\n",
    "model.fit(\n",
    "      train_generator,\n",
    "      steps_per_epoch=train_generator.__len__(),\n",
    "      epochs=EPOCHS,\n",
    "      validation_data=validation_generator,\n",
    "      validation_steps=validation_generator.__len__(),\n",
    "      callbacks=[learning_rate_reduction]\n",
    ")\n",
    "\n",
    "model_path = './models/VGG16_model.h5'\n",
    "\n",
    "print('[INFO] Save model to {}'.format(model_path))\n",
    "tf.keras.models.save_model(model, model_path, include_optimizer=False)"
   ]
  },
  {
   "cell_type": "markdown",
   "metadata": {},
   "source": [
    "---\n",
    "### Pruning\n",
    "#### Load the model (unnecessary, but for safe) and do pruning"
   ]
  },
  {
   "cell_type": "code",
   "execution_count": 21,
   "metadata": {},
   "outputs": [
    {
     "name": "stdout",
     "output_type": "stream",
     "text": [
      "[INFO] Load model from ./models/VGG16_model.h5\n",
      "WARNING:tensorflow:No training configuration found in save file: the model was *not* compiled. Compile it manually.\n"
     ]
    }
   ],
   "source": [
    "# Load model\n",
    "model_path = './models/VGG16_model.h5'\n",
    "print('[INFO] Load model from {}'.format(model_path))\n",
    "try:\n",
    "    model = tf.keras.models.load_model(model_path)\n",
    "except:\n",
    "    raise ValueError('Model not found. Please run vgg16_train.py')\n",
    "    \n",
    "# Create model\n",
    "model.compile(loss='binary_crossentropy', optimizer=OPTIMIZERS, metrics=['acc'])"
   ]
  },
  {
   "cell_type": "code",
   "execution_count": 22,
   "metadata": {},
   "outputs": [],
   "source": [
    "# Pruning setup\n",
    "# Hint: modify the epochs to let model recover\n",
    "epochs = EPOCHS\n",
    "end_step = train_generator.__len__() * epochs"
   ]
  },
  {
   "cell_type": "code",
   "execution_count": 23,
   "metadata": {},
   "outputs": [],
   "source": [
    "# Define pruning paramaters\n",
    "# Hint1: pruned model needs steps to recover\n",
    "# Hint2: initial sparsity too large will lead to low acc\n",
    "# TODO Compare result with final sparsity 0.25, 0.5, 0.75\n",
    "pruning_params = {\n",
    "        'pruning_schedule': sparsity.PolynomialDecay(initial_sparsity=0.10,\n",
    "                                                   final_sparsity=0.90,\n",
    "                                                   begin_step=0,\n",
    "                                                   end_step=end_step,\n",
    "                                                   frequency=200)\n",
    "        }"
   ]
  },
  {
   "cell_type": "code",
   "execution_count": 24,
   "metadata": {},
   "outputs": [
    {
     "name": "stdout",
     "output_type": "stream",
     "text": [
      "Model: \"model\"\n",
      "_________________________________________________________________\n",
      "Layer (type)                 Output Shape              Param #   \n",
      "=================================================================\n",
      "input_1 (InputLayer)         [(None, 150, 150, 3)]     0         \n",
      "_________________________________________________________________\n",
      "prune_low_magnitude_block1_c (None, 150, 150, 64)      3522      \n",
      "_________________________________________________________________\n",
      "prune_low_magnitude_block1_c (None, 150, 150, 64)      73794     \n",
      "_________________________________________________________________\n",
      "prune_low_magnitude_block1_p (None, 75, 75, 64)        1         \n",
      "_________________________________________________________________\n",
      "prune_low_magnitude_block2_c (None, 75, 75, 128)       147586    \n",
      "_________________________________________________________________\n",
      "prune_low_magnitude_block2_c (None, 75, 75, 128)       295042    \n",
      "_________________________________________________________________\n",
      "prune_low_magnitude_block2_p (None, 37, 37, 128)       1         \n",
      "_________________________________________________________________\n",
      "prune_low_magnitude_block3_c (None, 37, 37, 256)       590082    \n",
      "_________________________________________________________________\n",
      "prune_low_magnitude_block3_c (None, 37, 37, 256)       1179906   \n",
      "_________________________________________________________________\n",
      "prune_low_magnitude_block3_c (None, 37, 37, 256)       1179906   \n",
      "_________________________________________________________________\n",
      "prune_low_magnitude_block3_p (None, 18, 18, 256)       1         \n",
      "_________________________________________________________________\n",
      "prune_low_magnitude_block4_c (None, 18, 18, 512)       2359810   \n",
      "_________________________________________________________________\n",
      "prune_low_magnitude_block4_c (None, 18, 18, 512)       4719106   \n",
      "_________________________________________________________________\n",
      "prune_low_magnitude_block4_c (None, 18, 18, 512)       4719106   \n",
      "_________________________________________________________________\n",
      "prune_low_magnitude_block4_p (None, 9, 9, 512)         1         \n",
      "_________________________________________________________________\n",
      "prune_low_magnitude_block5_c (None, 9, 9, 512)         4719106   \n",
      "_________________________________________________________________\n",
      "prune_low_magnitude_block5_c (None, 9, 9, 512)         4719106   \n",
      "_________________________________________________________________\n",
      "prune_low_magnitude_block5_c (None, 9, 9, 512)         4719106   \n",
      "_________________________________________________________________\n",
      "prune_low_magnitude_block5_p (None, 4, 4, 512)         1         \n",
      "_________________________________________________________________\n",
      "prune_low_magnitude_global_a (None, 512)               1         \n",
      "_________________________________________________________________\n",
      "prune_low_magnitude_dense (P (None, 1)                 1027      \n",
      "=================================================================\n",
      "Total params: 29,426,211\n",
      "Trainable params: 14,715,201\n",
      "Non-trainable params: 14,711,010\n",
      "_________________________________________________________________\n",
      "[INFO] Start pruning process...\n",
      "Train for 250 steps, validate for 125 steps\n",
      "Epoch 1/15\n",
      "250/250 [==============================] - 87s 346ms/step - loss: 4.0142e-04 - acc: 1.0000 - val_loss: 0.2072 - val_acc: 0.9490\n",
      "Epoch 2/15\n",
      "250/250 [==============================] - 60s 238ms/step - loss: 3.6569e-04 - acc: 1.0000 - val_loss: 0.2123 - val_acc: 0.9470\n",
      "Epoch 3/15\n",
      "250/250 [==============================] - 60s 238ms/step - loss: 7.8839e-04 - acc: 1.0000 - val_loss: 0.2022 - val_acc: 0.9500\n",
      "Epoch 4/15\n",
      "250/250 [==============================] - 60s 239ms/step - loss: 0.0040 - acc: 0.9990 - val_loss: 0.1956 - val_acc: 0.9450\n",
      "Epoch 5/15\n",
      "250/250 [==============================] - 59s 237ms/step - loss: 0.0393 - acc: 0.9880 - val_loss: 0.2085 - val_acc: 0.9360\n",
      "Epoch 6/15\n",
      "249/250 [============================>.] - ETA: 0s - loss: 0.0271 - acc: 0.9900- ETA: \n",
      "Epoch 00006: ReduceLROnPlateau reducing learning rate to 0.004999999888241291.\n",
      "250/250 [==============================] - 60s 239ms/step - loss: 0.0271 - acc: 0.9900 - val_loss: 0.2046 - val_acc: 0.9250\n",
      "Epoch 7/15\n",
      "250/250 [==============================] - 59s 238ms/step - loss: 0.0660 - acc: 0.9830 - val_loss: 0.1757 - val_acc: 0.9310\n",
      "Epoch 8/15\n",
      "250/250 [==============================] - 60s 239ms/step - loss: 0.0517 - acc: 0.9850 - val_loss: 0.2142 - val_acc: 0.9250\n",
      "Epoch 9/15\n",
      "249/250 [============================>.] - ETA: 0s - loss: 0.2851 - acc: 0.8830\n",
      "Epoch 00009: ReduceLROnPlateau reducing learning rate to 0.0024999999441206455.\n",
      "250/250 [==============================] - 60s 239ms/step - loss: 0.2853 - acc: 0.8830 - val_loss: 0.3198 - val_acc: 0.8440\n",
      "Epoch 10/15\n",
      "250/250 [==============================] - 60s 239ms/step - loss: 0.1623 - acc: 0.9460 - val_loss: 0.2478 - val_acc: 0.8950\n",
      "Epoch 11/15\n",
      "250/250 [==============================] - 60s 238ms/step - loss: 0.2252 - acc: 0.9115 - val_loss: 0.2465 - val_acc: 0.9030\n",
      "Epoch 12/15\n",
      "249/250 [============================>.] - ETA: 0s - loss: 0.2181 - acc: 0.9217\n",
      "Epoch 00012: ReduceLROnPlateau reducing learning rate to 0.0012499999720603228.\n",
      "250/250 [==============================] - 60s 239ms/step - loss: 0.2176 - acc: 0.9220 - val_loss: 0.2478 - val_acc: 0.8960\n",
      "Epoch 13/15\n",
      "250/250 [==============================] - 59s 238ms/step - loss: 0.2076 - acc: 0.9290 - val_loss: 0.3046 - val_acc: 0.8660\n",
      "Epoch 14/15\n",
      "250/250 [==============================] - 60s 239ms/step - loss: 0.1644 - acc: 0.9410 - val_loss: 0.2522 - val_acc: 0.8960\n",
      "Epoch 15/15\n",
      "249/250 [============================>.] - ETA: 0s - loss: 0.1408 - acc: 0.9553\n",
      "Epoch 00015: ReduceLROnPlateau reducing learning rate to 0.0006249999860301614.\n",
      "250/250 [==============================] - 60s 238ms/step - loss: 0.1407 - acc: 0.9555 - val_loss: 0.2249 - val_acc: 0.9010\n"
     ]
    }
   ],
   "source": [
    "# Assign pruning paramaters\n",
    "pruned_model = sparsity.prune_low_magnitude(model, **pruning_params)\n",
    "\n",
    "# Print the converted model\n",
    "pruned_model.summary()\n",
    "\n",
    "pruned_model.compile(loss='binary_crossentropy', optimizer=OPTIMIZERS, metrics=['acc'])\n",
    "\n",
    "callbacks = [\n",
    "    sparsity.UpdatePruningStep(),\n",
    "    sparsity.PruningSummaries(log_dir='./', profile_batch=0),\n",
    "    learning_rate_reduction\n",
    "]\n",
    "\n",
    "print('[INFO] Start pruning process...')\n",
    "\n",
    "pruned_model.fit(\n",
    "      train_generator,\n",
    "      steps_per_epoch=train_generator.__len__(),\n",
    "      callbacks=callbacks,\n",
    "      epochs=epochs,\n",
    "      validation_data=validation_generator,\n",
    "      validation_steps=validation_generator.__len__()\n",
    ")\n",
    "\n",
    "pruned_model_path = './models/pruned_VGG16.h5'\n",
    "# convert pruned model to original\n",
    "final_model = sparsity.strip_pruning(pruned_model)\n",
    "tf.keras.models.save_model(final_model, pruned_model_path, include_optimizer=False)"
   ]
  },
  {
   "cell_type": "markdown",
   "metadata": {},
   "source": [
    "#### Zip file"
   ]
  },
  {
   "cell_type": "code",
   "execution_count": 25,
   "metadata": {},
   "outputs": [],
   "source": [
    "zip_path = './models/VGG16_model.zip'\n",
    "with zipfile.ZipFile(zip_path, 'w', compression=zipfile.ZIP_DEFLATED) as f:\n",
    "    f.write(model_path)\n",
    "\n",
    "# Zip file\n",
    "pruned_zip_path = './models/pruned_VGG16.zip'\n",
    "with zipfile.ZipFile(pruned_zip_path, 'w', compression=zipfile.ZIP_DEFLATED) as f:\n",
    "    f.write(pruned_model_path)"
   ]
  },
  {
   "cell_type": "markdown",
   "metadata": {},
   "source": [
    "#### Examine Pruning Result"
   ]
  },
  {
   "cell_type": "code",
   "execution_count": 26,
   "metadata": {},
   "outputs": [
    {
     "name": "stdout",
     "output_type": "stream",
     "text": [
      "Size of the model before compression: 56.20 MB\n",
      "Size of the model after compression: 52.20 MB\n",
      "Size of the pruned model before compression: 56.20 MB\n",
      "Size of the pruned model after compression: 10.76 MB\n",
      "[INFO] model val_acc: 0.9010000228881836\n",
      "[INFO] pruend model val_acc: 0.9010000228881836\n"
     ]
    }
   ],
   "source": [
    "# Print file size\n",
    "print(\"Size of the model before compression: %.2f MB\"\n",
    "        % (os.path.getsize(model_path) / float(2**20)))\n",
    "\n",
    "print(\"Size of the model after compression: %.2f MB\"\n",
    "        % (os.path.getsize(zip_path) / float(2**20)))\n",
    "\n",
    "print(\"Size of the pruned model before compression: %.2f MB\"\n",
    "        % (os.path.getsize(pruned_model_path) / float(2**20)))\n",
    "\n",
    "print(\"Size of the pruned model after compression: %.2f MB\"\n",
    "        % (os.path.getsize(pruned_zip_path) / float(2**20)))\n",
    "\n",
    "# Evaluate valid acc\n",
    "model_out = model.evaluate(validation_generator, steps=validation_generator.__len__(), verbose=0)\n",
    "pruned_out = pruned_model.evaluate(validation_generator, steps=validation_generator.__len__(), verbose=0)\n",
    "print('[INFO] model val_acc: {}'.format(model_out[1]))\n",
    "print('[INFO] pruend model val_acc: {}'.format(pruned_out[1]))"
   ]
  },
  {
   "cell_type": "markdown",
   "metadata": {},
   "source": [
    "#### Convert model to tflite"
   ]
  },
  {
   "cell_type": "code",
   "execution_count": 41,
   "metadata": {},
   "outputs": [],
   "source": [
    "# Convert model\n",
    "tflite_models_dir = './models'\n",
    "converter = tf.lite.TFLiteConverter.from_keras_model(model)\n",
    "tflite_model = converter.convert()\n",
    "tflite_model_file = os.path.join(tflite_models_dir, 'vgg16_model.tflite')\n",
    "with open(tflite_model_file, 'wb') as f:\n",
    "    f.write(tflite_model)"
   ]
  },
  {
   "cell_type": "markdown",
   "metadata": {},
   "source": [
    "---\n",
    "### Quantization"
   ]
  },
  {
   "cell_type": "code",
   "execution_count": 42,
   "metadata": {},
   "outputs": [],
   "source": [
    "# Set quantization options\n",
    "converter.optimizations = [tf.lite.Optimize.DEFAULT]\n",
    "\n",
    "# TODO: Uncomment to use fp16 precision, default is dynamic range precision\n",
    "#converter.target_spec.supported_types = [tf.float16]"
   ]
  },
  {
   "cell_type": "markdown",
   "metadata": {},
   "source": [
    "#### declare the filename of quantized model tflite (here is set to advance.tflite)"
   ]
  },
  {
   "cell_type": "code",
   "execution_count": 43,
   "metadata": {},
   "outputs": [],
   "source": [
    "tflite_quant_model = converter.convert()\n",
    "tflite_model_quant_file = os.path.join(tflite_models_dir, \"advance.tflite\")\n",
    "with open(tflite_model_quant_file, 'wb') as f:\n",
    "    f.write(tflite_quant_model)"
   ]
  },
  {
   "cell_type": "code",
   "execution_count": 44,
   "metadata": {},
   "outputs": [],
   "source": [
    "# Load the model into tflite interpreter\n",
    "interpreter = tf.lite.Interpreter(model_path=tflite_model_file)\n",
    "interpreter.allocate_tensors()\n",
    "\n",
    "interpreter_quant = tf.lite.Interpreter(model_path=tflite_model_quant_file)\n",
    "interpreter_quant.allocate_tensors()"
   ]
  },
  {
   "cell_type": "code",
   "execution_count": 45,
   "metadata": {},
   "outputs": [],
   "source": [
    "# A helper function to evaluate the TF Lite model.\n",
    "def evaluate_model(interpreter):\n",
    "  input_index = interpreter.get_input_details()[0][\"index\"]\n",
    "  output_index = interpreter.get_output_details()[0][\"index\"]\n",
    "\n",
    "  # Run predictions on every image in the \"test\" dataset.\n",
    "  prediction_digits = []\n",
    "  accurate_count = 0\n",
    "  data_count = 0\n",
    "  total_valid_images = len(validation_generator.filenames)\n",
    "  start = time.time()\n",
    "  for (x, y) in test_datagen.flow_from_directory(validation_dir, batch_size=1, target_size=(WIDTH, HEIGHT)):\n",
    "    data_count += 1\n",
    "    \n",
    "    interpreter.set_tensor(input_index, x)\n",
    "\n",
    "    # Run inference.\n",
    "    interpreter.invoke()\n",
    "\n",
    "    output = interpreter.tensor(output_index)\n",
    "    category = 1 if output()[0] >= 0.5 else 0\n",
    "    if y[0][category] == 1:\n",
    "        accurate_count += 1\n",
    "    \n",
    "    if data_count == total_valid_images:\n",
    "        break\n",
    "\n",
    "  accuracy = accurate_count * 1.0 / total_valid_images\n",
    "  end = time.time()\n",
    "  elapsed = end - start\n",
    "  print('Performance: {:0.1f} ms/image'.format((elapsed/total_valid_images) * 1000))\n",
    "  return accuracy"
   ]
  },
  {
   "cell_type": "code",
   "execution_count": 46,
   "metadata": {},
   "outputs": [
    {
     "name": "stdout",
     "output_type": "stream",
     "text": [
      "Size of the model before quantization: 56.14 Mb\n",
      "Size of the model after quantization: 14.05 Mb\n"
     ]
    }
   ],
   "source": [
    "# Print quantized tflite size\n",
    "print(\"Size of the model before quantization: %.2f Mb\"\n",
    "        % (os.path.getsize(tflite_model_file) / float(2**20)))\n",
    "\n",
    "print(\"Size of the model after quantization: %.2f Mb\"\n",
    "        % (os.path.getsize(tflite_model_quant_file) / float(2**20)))"
   ]
  },
  {
   "cell_type": "code",
   "execution_count": 47,
   "metadata": {},
   "outputs": [
    {
     "name": "stdout",
     "output_type": "stream",
     "text": [
      "[INFO] Start inference process...\n",
      "Found 1000 images belonging to 2 classes.\n",
      "Performance: 122.4 ms/image\n",
      "Original model acc: 0.901000\n",
      "\n",
      "Found 1000 images belonging to 2 classes.\n",
      "Performance: 1048.5 ms/image\n",
      "Quantized model acc: 0.898000\n",
      "\n"
     ]
    }
   ],
   "source": [
    "# Evaluate valid acc\n",
    "print('[INFO] Start inference process...')\n",
    "print('Original model acc: {:f}\\n'.format(evaluate_model(interpreter)))\n",
    "print('Quantized model acc: {:f}\\n'.format(evaluate_model(interpreter_quant)))"
   ]
  },
  {
   "cell_type": "code",
   "execution_count": null,
   "metadata": {},
   "outputs": [],
   "source": []
  }
 ],
 "metadata": {
  "kernelspec": {
   "display_name": "Python 3",
   "language": "python",
   "name": "python3"
  },
  "language_info": {
   "codemirror_mode": {
    "name": "ipython",
    "version": 3
   },
   "file_extension": ".py",
   "mimetype": "text/x-python",
   "name": "python",
   "nbconvert_exporter": "python",
   "pygments_lexer": "ipython3",
   "version": "3.7.3"
  }
 },
 "nbformat": 4,
 "nbformat_minor": 2
}
